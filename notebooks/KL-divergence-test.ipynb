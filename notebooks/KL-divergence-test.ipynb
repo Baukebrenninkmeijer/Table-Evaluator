{
 "cells": [
  {
   "cell_type": "code",
   "execution_count": 1,
   "metadata": {},
   "outputs": [],
   "source": [
    "import pandas as pd\n",
    "import numpy as np\n",
    "import scipy"
   ]
  },
  {
   "cell_type": "code",
   "execution_count": 8,
   "metadata": {},
   "outputs": [
    {
     "data": {
      "text/plain": [
       "['.ipynb_checkpoints', 'KL-divergence-test.ipynb']"
      ]
     },
     "execution_count": 8,
     "metadata": {},
     "output_type": "execute_result"
    }
   ],
   "source": [
    "import os\n",
    "os.listdir()"
   ]
  },
  {
   "cell_type": "code",
   "execution_count": 10,
   "metadata": {},
   "outputs": [],
   "source": [
    "real = pd.read_csv('data/fake_test_sample.csv')\n",
    "fake = pd.read_csv('data/real_test_sample.csv')"
   ]
  },
  {
   "cell_type": "code",
   "execution_count": 11,
   "metadata": {},
   "outputs": [
    {
     "data": {
      "text/html": [
       "<div>\n",
       "<style scoped>\n",
       "    .dataframe tbody tr th:only-of-type {\n",
       "        vertical-align: middle;\n",
       "    }\n",
       "\n",
       "    .dataframe tbody tr th {\n",
       "        vertical-align: top;\n",
       "    }\n",
       "\n",
       "    .dataframe thead th {\n",
       "        text-align: right;\n",
       "    }\n",
       "</style>\n",
       "<table border=\"1\" class=\"dataframe\">\n",
       "  <thead>\n",
       "    <tr style=\"text-align: right;\">\n",
       "      <th></th>\n",
       "      <th>trans_id</th>\n",
       "      <th>account_id</th>\n",
       "      <th>trans_amount</th>\n",
       "      <th>balance_after_trans</th>\n",
       "      <th>trans_type</th>\n",
       "      <th>trans_operation</th>\n",
       "      <th>trans_k_symbol</th>\n",
       "      <th>trans_date</th>\n",
       "    </tr>\n",
       "  </thead>\n",
       "  <tbody>\n",
       "    <tr>\n",
       "      <th>0</th>\n",
       "      <td>911598</td>\n",
       "      <td>3001</td>\n",
       "      <td>13619.0</td>\n",
       "      <td>92079.0</td>\n",
       "      <td>CREDIT</td>\n",
       "      <td>COLLECTION_FROM_OTHER_BANK</td>\n",
       "      <td>UNKNOWN</td>\n",
       "      <td>1885</td>\n",
       "    </tr>\n",
       "    <tr>\n",
       "      <th>1</th>\n",
       "      <td>377371</td>\n",
       "      <td>1042</td>\n",
       "      <td>4174.0</td>\n",
       "      <td>32470.0</td>\n",
       "      <td>WITHDRAWAL</td>\n",
       "      <td>REMITTANCE_TO_OTHER_BANK</td>\n",
       "      <td>HOUSEHOLD</td>\n",
       "      <td>1483</td>\n",
       "    </tr>\n",
       "    <tr>\n",
       "      <th>2</th>\n",
       "      <td>970113</td>\n",
       "      <td>3225</td>\n",
       "      <td>274.0</td>\n",
       "      <td>57608.0</td>\n",
       "      <td>WITHDRAWAL</td>\n",
       "      <td>WITHDRAWAL_IN_CASH</td>\n",
       "      <td>UNKNOWN</td>\n",
       "      <td>1855</td>\n",
       "    </tr>\n",
       "    <tr>\n",
       "      <th>3</th>\n",
       "      <td>450090</td>\n",
       "      <td>1489</td>\n",
       "      <td>301.0</td>\n",
       "      <td>36258.0</td>\n",
       "      <td>CREDIT</td>\n",
       "      <td>CREDIT_IN_CASH</td>\n",
       "      <td>UNKNOWN</td>\n",
       "      <td>885</td>\n",
       "    </tr>\n",
       "    <tr>\n",
       "      <th>4</th>\n",
       "      <td>1120409</td>\n",
       "      <td>3634</td>\n",
       "      <td>6303.0</td>\n",
       "      <td>50975.0</td>\n",
       "      <td>WITHDRAWAL</td>\n",
       "      <td>REMITTANCE_TO_OTHER_BANK</td>\n",
       "      <td>HOUSEHOLD</td>\n",
       "      <td>1211</td>\n",
       "    </tr>\n",
       "    <tr>\n",
       "      <th>...</th>\n",
       "      <td>...</td>\n",
       "      <td>...</td>\n",
       "      <td>...</td>\n",
       "      <td>...</td>\n",
       "      <td>...</td>\n",
       "      <td>...</td>\n",
       "      <td>...</td>\n",
       "      <td>...</td>\n",
       "    </tr>\n",
       "    <tr>\n",
       "      <th>995</th>\n",
       "      <td>1148391</td>\n",
       "      <td>3740</td>\n",
       "      <td>354.0</td>\n",
       "      <td>43688.0</td>\n",
       "      <td>WITHDRAWAL</td>\n",
       "      <td>REMITTANCE_TO_OTHER_BANK</td>\n",
       "      <td>HOUSEHOLD</td>\n",
       "      <td>1001</td>\n",
       "    </tr>\n",
       "    <tr>\n",
       "      <th>996</th>\n",
       "      <td>3605655</td>\n",
       "      <td>4099</td>\n",
       "      <td>78.0</td>\n",
       "      <td>23258.0</td>\n",
       "      <td>CREDIT</td>\n",
       "      <td>UNKNOWN</td>\n",
       "      <td>INTEREST_CREDITED</td>\n",
       "      <td>692</td>\n",
       "    </tr>\n",
       "    <tr>\n",
       "      <th>997</th>\n",
       "      <td>1058574</td>\n",
       "      <td>3512</td>\n",
       "      <td>1.0</td>\n",
       "      <td>13975.0</td>\n",
       "      <td>WITHDRAWAL</td>\n",
       "      <td>WITHDRAWAL_IN_CASH</td>\n",
       "      <td>PAYMENT_FOR_STATEMENT</td>\n",
       "      <td>794</td>\n",
       "    </tr>\n",
       "    <tr>\n",
       "      <th>998</th>\n",
       "      <td>1264018</td>\n",
       "      <td>4317</td>\n",
       "      <td>-18.0</td>\n",
       "      <td>64244.0</td>\n",
       "      <td>WITHDRAWAL</td>\n",
       "      <td>WITHDRAWAL_IN_CASH</td>\n",
       "      <td>PAYMENT_FOR_STATEMENT</td>\n",
       "      <td>2065</td>\n",
       "    </tr>\n",
       "    <tr>\n",
       "      <th>999</th>\n",
       "      <td>3641940</td>\n",
       "      <td>4776</td>\n",
       "      <td>41.0</td>\n",
       "      <td>29198.0</td>\n",
       "      <td>WITHDRAWAL</td>\n",
       "      <td>WITHDRAWAL_IN_CASH</td>\n",
       "      <td>INTEREST_CREDITED</td>\n",
       "      <td>1154</td>\n",
       "    </tr>\n",
       "  </tbody>\n",
       "</table>\n",
       "<p>1000 rows × 8 columns</p>\n",
       "</div>"
      ],
      "text/plain": [
       "     trans_id  account_id  trans_amount  balance_after_trans  trans_type  \\\n",
       "0      911598        3001       13619.0              92079.0      CREDIT   \n",
       "1      377371        1042        4174.0              32470.0  WITHDRAWAL   \n",
       "2      970113        3225         274.0              57608.0  WITHDRAWAL   \n",
       "3      450090        1489         301.0              36258.0      CREDIT   \n",
       "4     1120409        3634        6303.0              50975.0  WITHDRAWAL   \n",
       "..        ...         ...           ...                  ...         ...   \n",
       "995   1148391        3740         354.0              43688.0  WITHDRAWAL   \n",
       "996   3605655        4099          78.0              23258.0      CREDIT   \n",
       "997   1058574        3512           1.0              13975.0  WITHDRAWAL   \n",
       "998   1264018        4317         -18.0              64244.0  WITHDRAWAL   \n",
       "999   3641940        4776          41.0              29198.0  WITHDRAWAL   \n",
       "\n",
       "                trans_operation         trans_k_symbol  trans_date  \n",
       "0    COLLECTION_FROM_OTHER_BANK                UNKNOWN        1885  \n",
       "1      REMITTANCE_TO_OTHER_BANK              HOUSEHOLD        1483  \n",
       "2            WITHDRAWAL_IN_CASH                UNKNOWN        1855  \n",
       "3                CREDIT_IN_CASH                UNKNOWN         885  \n",
       "4      REMITTANCE_TO_OTHER_BANK              HOUSEHOLD        1211  \n",
       "..                          ...                    ...         ...  \n",
       "995    REMITTANCE_TO_OTHER_BANK              HOUSEHOLD        1001  \n",
       "996                     UNKNOWN      INTEREST_CREDITED         692  \n",
       "997          WITHDRAWAL_IN_CASH  PAYMENT_FOR_STATEMENT         794  \n",
       "998          WITHDRAWAL_IN_CASH  PAYMENT_FOR_STATEMENT        2065  \n",
       "999          WITHDRAWAL_IN_CASH      INTEREST_CREDITED        1154  \n",
       "\n",
       "[1000 rows x 8 columns]"
      ]
     },
     "execution_count": 11,
     "metadata": {},
     "output_type": "execute_result"
    }
   ],
   "source": [
    "real"
   ]
  },
  {
   "cell_type": "code",
   "execution_count": 18,
   "metadata": {},
   "outputs": [],
   "source": [
    "from scipy import stats"
   ]
  },
  {
   "cell_type": "code",
   "execution_count": 30,
   "metadata": {},
   "outputs": [
    {
     "data": {
      "text/plain": [
       "0.29862657820467575"
      ]
     },
     "execution_count": 30,
     "metadata": {},
     "output_type": "execute_result"
    }
   ],
   "source": [
    "stats.entropy([0.1, 0.3, 0.2], [0.2, 0.1, 0.3])"
   ]
  },
  {
   "cell_type": "code",
   "execution_count": 24,
   "metadata": {},
   "outputs": [
    {
     "data": {
      "text/html": [
       "<div>\n",
       "<style scoped>\n",
       "    .dataframe tbody tr th:only-of-type {\n",
       "        vertical-align: middle;\n",
       "    }\n",
       "\n",
       "    .dataframe tbody tr th {\n",
       "        vertical-align: top;\n",
       "    }\n",
       "\n",
       "    .dataframe thead th {\n",
       "        text-align: right;\n",
       "    }\n",
       "</style>\n",
       "<table border=\"1\" class=\"dataframe\">\n",
       "  <thead>\n",
       "    <tr style=\"text-align: right;\">\n",
       "      <th></th>\n",
       "      <th>trans_id</th>\n",
       "      <th>account_id</th>\n",
       "      <th>trans_amount</th>\n",
       "      <th>balance_after_trans</th>\n",
       "      <th>trans_type</th>\n",
       "      <th>trans_operation</th>\n",
       "      <th>trans_k_symbol</th>\n",
       "      <th>trans_date</th>\n",
       "    </tr>\n",
       "  </thead>\n",
       "  <tbody>\n",
       "    <tr>\n",
       "      <th>count</th>\n",
       "      <td>1.000000e+03</td>\n",
       "      <td>1000.000000</td>\n",
       "      <td>1000.000000</td>\n",
       "      <td>1000.000000</td>\n",
       "      <td>1000</td>\n",
       "      <td>1000</td>\n",
       "      <td>1000</td>\n",
       "      <td>1000.000000</td>\n",
       "    </tr>\n",
       "    <tr>\n",
       "      <th>unique</th>\n",
       "      <td>NaN</td>\n",
       "      <td>NaN</td>\n",
       "      <td>NaN</td>\n",
       "      <td>NaN</td>\n",
       "      <td>3</td>\n",
       "      <td>6</td>\n",
       "      <td>8</td>\n",
       "      <td>NaN</td>\n",
       "    </tr>\n",
       "    <tr>\n",
       "      <th>top</th>\n",
       "      <td>NaN</td>\n",
       "      <td>NaN</td>\n",
       "      <td>NaN</td>\n",
       "      <td>NaN</td>\n",
       "      <td>WITHDRAWAL</td>\n",
       "      <td>WITHDRAWAL_IN_CASH</td>\n",
       "      <td>UNKNOWN</td>\n",
       "      <td>NaN</td>\n",
       "    </tr>\n",
       "    <tr>\n",
       "      <th>freq</th>\n",
       "      <td>NaN</td>\n",
       "      <td>NaN</td>\n",
       "      <td>NaN</td>\n",
       "      <td>NaN</td>\n",
       "      <td>574</td>\n",
       "      <td>397</td>\n",
       "      <td>460</td>\n",
       "      <td>NaN</td>\n",
       "    </tr>\n",
       "    <tr>\n",
       "      <th>mean</th>\n",
       "      <td>1.389648e+06</td>\n",
       "      <td>2739.289000</td>\n",
       "      <td>4110.665000</td>\n",
       "      <td>37850.953000</td>\n",
       "      <td>NaN</td>\n",
       "      <td>NaN</td>\n",
       "      <td>NaN</td>\n",
       "      <td>1421.764000</td>\n",
       "    </tr>\n",
       "    <tr>\n",
       "      <th>std</th>\n",
       "      <td>1.264652e+06</td>\n",
       "      <td>2381.642554</td>\n",
       "      <td>7506.175593</td>\n",
       "      <td>21053.935848</td>\n",
       "      <td>NaN</td>\n",
       "      <td>NaN</td>\n",
       "      <td>NaN</td>\n",
       "      <td>521.285573</td>\n",
       "    </tr>\n",
       "    <tr>\n",
       "      <th>min</th>\n",
       "      <td>6.684100e+04</td>\n",
       "      <td>-2.000000</td>\n",
       "      <td>-752.000000</td>\n",
       "      <td>9374.000000</td>\n",
       "      <td>NaN</td>\n",
       "      <td>NaN</td>\n",
       "      <td>NaN</td>\n",
       "      <td>187.000000</td>\n",
       "    </tr>\n",
       "    <tr>\n",
       "      <th>25%</th>\n",
       "      <td>4.324900e+05</td>\n",
       "      <td>983.750000</td>\n",
       "      <td>51.000000</td>\n",
       "      <td>21266.500000</td>\n",
       "      <td>NaN</td>\n",
       "      <td>NaN</td>\n",
       "      <td>NaN</td>\n",
       "      <td>1129.000000</td>\n",
       "    </tr>\n",
       "    <tr>\n",
       "      <th>50%</th>\n",
       "      <td>8.703035e+05</td>\n",
       "      <td>2132.500000</td>\n",
       "      <td>879.000000</td>\n",
       "      <td>32747.500000</td>\n",
       "      <td>NaN</td>\n",
       "      <td>NaN</td>\n",
       "      <td>NaN</td>\n",
       "      <td>1496.000000</td>\n",
       "    </tr>\n",
       "    <tr>\n",
       "      <th>75%</th>\n",
       "      <td>2.317930e+06</td>\n",
       "      <td>3598.000000</td>\n",
       "      <td>4556.000000</td>\n",
       "      <td>49173.500000</td>\n",
       "      <td>NaN</td>\n",
       "      <td>NaN</td>\n",
       "      <td>NaN</td>\n",
       "      <td>1902.250000</td>\n",
       "    </tr>\n",
       "    <tr>\n",
       "      <th>max</th>\n",
       "      <td>3.683293e+06</td>\n",
       "      <td>11673.000000</td>\n",
       "      <td>49535.000000</td>\n",
       "      <td>118380.000000</td>\n",
       "      <td>NaN</td>\n",
       "      <td>NaN</td>\n",
       "      <td>NaN</td>\n",
       "      <td>2130.000000</td>\n",
       "    </tr>\n",
       "  </tbody>\n",
       "</table>\n",
       "</div>"
      ],
      "text/plain": [
       "            trans_id    account_id  trans_amount  balance_after_trans  \\\n",
       "count   1.000000e+03   1000.000000   1000.000000          1000.000000   \n",
       "unique           NaN           NaN           NaN                  NaN   \n",
       "top              NaN           NaN           NaN                  NaN   \n",
       "freq             NaN           NaN           NaN                  NaN   \n",
       "mean    1.389648e+06   2739.289000   4110.665000         37850.953000   \n",
       "std     1.264652e+06   2381.642554   7506.175593         21053.935848   \n",
       "min     6.684100e+04     -2.000000   -752.000000          9374.000000   \n",
       "25%     4.324900e+05    983.750000     51.000000         21266.500000   \n",
       "50%     8.703035e+05   2132.500000    879.000000         32747.500000   \n",
       "75%     2.317930e+06   3598.000000   4556.000000         49173.500000   \n",
       "max     3.683293e+06  11673.000000  49535.000000        118380.000000   \n",
       "\n",
       "        trans_type     trans_operation trans_k_symbol   trans_date  \n",
       "count         1000                1000           1000  1000.000000  \n",
       "unique           3                   6              8          NaN  \n",
       "top     WITHDRAWAL  WITHDRAWAL_IN_CASH        UNKNOWN          NaN  \n",
       "freq           574                 397            460          NaN  \n",
       "mean           NaN                 NaN            NaN  1421.764000  \n",
       "std            NaN                 NaN            NaN   521.285573  \n",
       "min            NaN                 NaN            NaN   187.000000  \n",
       "25%            NaN                 NaN            NaN  1129.000000  \n",
       "50%            NaN                 NaN            NaN  1496.000000  \n",
       "75%            NaN                 NaN            NaN  1902.250000  \n",
       "max            NaN                 NaN            NaN  2130.000000  "
      ]
     },
     "execution_count": 24,
     "metadata": {},
     "output_type": "execute_result"
    }
   ],
   "source": [
    "real.describe(include='all')"
   ]
  },
  {
   "cell_type": "code",
   "execution_count": 34,
   "metadata": {},
   "outputs": [],
   "source": [
    "from sklearn.neighbors import KernelDensity\n",
    "import seaborn as sns\n",
    "import matplotlib.pyplot as plt"
   ]
  },
  {
   "cell_type": "code",
   "execution_count": 36,
   "metadata": {},
   "outputs": [],
   "source": []
  },
  {
   "cell_type": "code",
   "execution_count": 61,
   "metadata": {},
   "outputs": [
    {
     "data": {
      "text/plain": [
       "[<matplotlib.lines.Line2D at 0x19eca429390>]"
      ]
     },
     "execution_count": 61,
     "metadata": {},
     "output_type": "execute_result"
    },
    {
     "data": {
      "image/png": "[encoded data removed]",
      "text/plain": [
       "<Figure size 432x288 with 1 Axes>"
      ]
     },
     "metadata": {
      "needs_background": "light"
     },
     "output_type": "display_data"
    }
   ],
   "source": [
    "model = scipy.stats.gaussian_kde(real.trans_amount)\n",
    "probs_real = model(np.arange(real.trans_amount.min(), real.trans_amount.max()))\n",
    "plt.plot(probs_real)"
   ]
  },
  {
   "cell_type": "code",
   "execution_count": 62,
   "metadata": {},
   "outputs": [
    {
     "data": {
      "text/plain": [
       "[<matplotlib.lines.Line2D at 0x19ecb0e6630>]"
      ]
     },
     "execution_count": 62,
     "metadata": {},
     "output_type": "execute_result"
    },
    {
     "data": {
      "image/png": "[encoded data removed]",
      "text/plain": [
       "<Figure size 432x288 with 1 Axes>"
      ]
     },
     "metadata": {
      "needs_background": "light"
     },
     "output_type": "display_data"
    }
   ],
   "source": [
    "model = scipy.stats.gaussian_kde(fake.trans_amount)\n",
    "probs_fake = model(np.arange(real.trans_amount.min(), real.trans_amount.max()))\n",
    "plt.plot(probs_fake)"
   ]
  },
  {
   "cell_type": "code",
   "execution_count": 66,
   "metadata": {},
   "outputs": [
    {
     "data": {
      "text/plain": [
       "0.818616925512345"
      ]
     },
     "execution_count": 66,
     "metadata": {},
     "output_type": "execute_result"
    }
   ],
   "source": [
    "np.sum(probs_real)"
   ]
  },
  {
   "cell_type": "code",
   "execution_count": 63,
   "metadata": {},
   "outputs": [
    {
     "data": {
      "text/plain": [
       "0.03791587224888453"
      ]
     },
     "execution_count": 63,
     "metadata": {},
     "output_type": "execute_result"
    }
   ],
   "source": [
    "stats.entropy(probs_real, probs_fake)"
   ]
  },
  {
   "cell_type": "code",
   "execution_count": 64,
   "metadata": {},
   "outputs": [
    {
     "data": {
      "text/plain": [
       "0.043705428486526296"
      ]
     },
     "execution_count": 64,
     "metadata": {},
     "output_type": "execute_result"
    }
   ],
   "source": [
    "stats.entropy(probs_fake, probs_real)"
   ]
  },
  {
   "cell_type": "markdown",
   "metadata": {},
   "source": [
    "## Test with qcut"
   ]
  },
  {
   "cell_type": "code",
   "execution_count": 103,
   "metadata": {},
   "outputs": [
    {
     "data": {
      "text/plain": [
       "0      (13328.36, 15339.84]\n",
       "1        (3270.96, 5282.44]\n",
       "2       (-802.287, 1259.48]\n",
       "3       (-802.287, 1259.48]\n",
       "4        (5282.44, 7293.92]\n",
       "               ...         \n",
       "995     (-802.287, 1259.48]\n",
       "996     (-802.287, 1259.48]\n",
       "997     (-802.287, 1259.48]\n",
       "998     (-802.287, 1259.48]\n",
       "999     (-802.287, 1259.48]\n",
       "Name: trans_amount, Length: 1000, dtype: category\n",
       "Categories (25, interval[float64]): [(-802.287, 1259.48] < (1259.48, 3270.96] < (3270.96, 5282.44] < (5282.44, 7293.92] ... (41489.08, 43500.56] < (43500.56, 45512.04] < (45512.04, 47523.52] < (47523.52, 49535.0]]"
      ]
     },
     "execution_count": 103,
     "metadata": {},
     "output_type": "execute_result"
    }
   ],
   "source": [
    "binned_values_real, bins = pd.cut(real.trans_amount, bins=25, retbins=True)\n",
    "binned_values_real"
   ]
  },
  {
   "cell_type": "code",
   "execution_count": 113,
   "metadata": {},
   "outputs": [
    {
     "data": {
      "text/plain": [
       "9.965784284662087"
      ]
     },
     "execution_count": 113,
     "metadata": {},
     "output_type": "execute_result"
    }
   ],
   "source": [
    "np.log2(len(real))"
   ]
  },
  {
   "cell_type": "code",
   "execution_count": 104,
   "metadata": {},
   "outputs": [],
   "source": [
    "binned_probabilities_real = binned_values_real.value_counts(normalize=True, sort=False)\n",
    "binned_probs_fake = pd.cut(fake.trans_amount, bins=bins).value_counts(normalize=True, sort=False)"
   ]
  },
  {
   "cell_type": "code",
   "execution_count": 105,
   "metadata": {},
   "outputs": [
    {
     "data": {
      "text/plain": [
       "[(0.541, 0.44176706827309237),\n",
       " (0.139, 0.16566265060240964),\n",
       " (0.107, 0.10542168674698796),\n",
       " (0.044, 0.06626506024096386),\n",
       " (0.021, 0.03313253012048193),\n",
       " (0.029, 0.029116465863453816),\n",
       " (0.027, 0.02108433734939759),\n",
       " (0.023, 0.024096385542168676),\n",
       " (0.008, 0.015060240963855422),\n",
       " (0.01, 0.015060240963855422),\n",
       " (0.005, 0.01706827309236948),\n",
       " (0.002, 0.01706827309236948),\n",
       " (0.006, 0.01104417670682731),\n",
       " (0.006, 0.004016064257028112),\n",
       " (0.008, 0.0050200803212851405),\n",
       " (0.009, 0.004016064257028112),\n",
       " (0.002, 0.007028112449799197),\n",
       " (0.003, 0.0030120481927710845),\n",
       " (0.001, 0.004016064257028112),\n",
       " (0.002, 0.004016064257028112),\n",
       " (0.001, 0.002008032128514056),\n",
       " (0.001, 0.001004016064257028),\n",
       " (0.001, 0.001004016064257028),\n",
       " (0.002, 0.0),\n",
       " (0.002, 0.0030120481927710845)]"
      ]
     },
     "execution_count": 105,
     "metadata": {},
     "output_type": "execute_result"
    }
   ],
   "source": [
    "[(x, y) for x, y in zip(binned_probabilities_real, binned_probs_fake)]"
   ]
  },
  {
   "cell_type": "code",
   "execution_count": 109,
   "metadata": {},
   "outputs": [
    {
     "data": {
      "text/plain": [
       "<matplotlib.axes._subplots.AxesSubplot at 0x19ed5eea6a0>"
      ]
     },
     "execution_count": 109,
     "metadata": {},
     "output_type": "execute_result"
    },
    {
     "data": {
      "image/png": "[encoded data removed]",
      "text/plain": [
       "<Figure size 432x288 with 1 Axes>"
      ]
     },
     "metadata": {
      "needs_background": "light"
     },
     "output_type": "display_data"
    }
   ],
   "source": [
    "binned_probabilities_real.plot(kind='bar')"
   ]
  },
  {
   "cell_type": "code",
   "execution_count": 110,
   "metadata": {},
   "outputs": [
    {
     "data": {
      "text/plain": [
       "<matplotlib.axes._subplots.AxesSubplot at 0x19ed5e80940>"
      ]
     },
     "execution_count": 110,
     "metadata": {},
     "output_type": "execute_result"
    },
    {
     "data": {
      "image/png": "[encoded data removed]",
      "text/plain": [
       "<Figure size 432x288 with 1 Axes>"
      ]
     },
     "metadata": {
      "needs_background": "light"
     },
     "output_type": "display_data"
    }
   ],
   "source": [
    "binned_probs_fake.plot(kind='bar')"
   ]
  },
  {
   "cell_type": "code",
   "execution_count": 119,
   "metadata": {},
   "outputs": [
    {
     "data": {
      "text/plain": [
       "inf"
      ]
     },
     "execution_count": 119,
     "metadata": {},
     "output_type": "execute_result"
    }
   ],
   "source": [
    "stats.entropy(binned_probabilities_real.values, binned_probs_fake.values)"
   ]
  },
  {
   "cell_type": "code",
   "execution_count": 118,
   "metadata": {},
   "outputs": [
    {
     "data": {
      "text/plain": [
       "0.12012642869928797"
      ]
     },
     "execution_count": 118,
     "metadata": {},
     "output_type": "execute_result"
    }
   ],
   "source": [
    "from scipy.spatial.distance import jensenshannon\n",
    "jensenshannon(binned_probabilities_real.values, binned_probs_fake.values)"
   ]
  },
  {
   "cell_type": "code",
   "execution_count": 159,
   "metadata": {},
   "outputs": [],
   "source": [
    "def jensenshannon_distance(colname, real_col, fake_col, bins=10):\n",
    "    binned_values_real, bins = pd.cut(real_col, bins=bins, retbins=True)\n",
    "    binned_probs_real = binned_values_real.value_counts(normalize=True, sort=False)\n",
    "    binned_probs_fake = pd.cut(fake_col, bins=bins).value_counts(normalize=True, sort=False)\n",
    "    return {'col_name': colname, 'js_distance': jensenshannon(binned_probs_real, binned_probs_fake)}\n"
   ]
  },
  {
   "cell_type": "code",
   "execution_count": 160,
   "metadata": {},
   "outputs": [
    {
     "data": {
      "text/plain": [
       "{'col_name': 'trans_amount', 'js_distance': 0.08913046654586265}"
      ]
     },
     "execution_count": 160,
     "metadata": {},
     "output_type": "execute_result"
    }
   ],
   "source": [
    "jensenshannon_distance('trans_amount', real.trans_amount, fake.trans_amount)"
   ]
  },
  {
   "cell_type": "code",
   "execution_count": 169,
   "metadata": {},
   "outputs": [],
   "source": [
    "from joblib import Parallel, delayed\n",
    "from typing import List, Dict, Any\n",
    "\n",
    "def js_distance_df(real: pd.DataFrame, fake: pd.DataFrame, numerical_columns: List) -> List[Dict[str, Any]]:\n",
    "    assert real.columns.tolist() == fake.columns.tolist(), f'Colums are not identical between `real` and `fake`. '\n",
    "    real_iter = real[numerical_columns].iteritems()\n",
    "    fake_iter = fake[numerical_columns].iteritems()\n",
    "    distances = Parallel(n_jobs=-1)(\n",
    "        delayed(jensenshannon_distance)\n",
    "        (colname, real_col, fake_col) for (colname, real_col), (_, fake_col) in zip(real_iter, fake_iter))\n",
    "\n",
    "    distances_df = pd.DataFrame(distances)\n",
    "    distances_df = distances_df.append({'col_name': 'mean', 'js_distance': distances_df.js_distance.mean()}, ignore_index=True)\n",
    "    return distances_df.set_index('col_name')"
   ]
  },
  {
   "cell_type": "code",
   "execution_count": 178,
   "metadata": {},
   "outputs": [
    {
     "data": {
      "text/html": [
       "<div>\n",
       "<style scoped>\n",
       "    .dataframe tbody tr th:only-of-type {\n",
       "        vertical-align: middle;\n",
       "    }\n",
       "\n",
       "    .dataframe tbody tr th {\n",
       "        vertical-align: top;\n",
       "    }\n",
       "\n",
       "    .dataframe thead th {\n",
       "        text-align: right;\n",
       "    }\n",
       "</style>\n",
       "<table border=\"1\" class=\"dataframe\">\n",
       "  <thead>\n",
       "    <tr style=\"text-align: right;\">\n",
       "      <th></th>\n",
       "      <th>js_distance</th>\n",
       "    </tr>\n",
       "    <tr>\n",
       "      <th>col_name</th>\n",
       "      <th></th>\n",
       "    </tr>\n",
       "  </thead>\n",
       "  <tbody>\n",
       "    <tr>\n",
       "      <th>trans_amount</th>\n",
       "      <td>0.089130</td>\n",
       "    </tr>\n",
       "    <tr>\n",
       "      <th>balance_after_trans</th>\n",
       "      <td>0.081193</td>\n",
       "    </tr>\n",
       "    <tr>\n",
       "      <th>mean</th>\n",
       "      <td>0.085162</td>\n",
       "    </tr>\n",
       "  </tbody>\n",
       "</table>\n",
       "</div>"
      ],
      "text/plain": [
       "                     js_distance\n",
       "col_name                        \n",
       "trans_amount            0.089130\n",
       "balance_after_trans     0.081193\n",
       "mean                    0.085162"
      ]
     },
     "execution_count": 178,
     "metadata": {},
     "output_type": "execute_result"
    }
   ],
   "source": [
    "js_df = js_distance_df(real, fake, numerical_columns=['trans_amount', 'balance_after_trans'])\n",
    "js_df"
   ]
  },
  {
   "cell_type": "code",
   "execution_count": 116,
   "metadata": {},
   "outputs": [],
   "source": [
    "from scipy.stats import ks_2samp"
   ]
  },
  {
   "cell_type": "code",
   "execution_count": 218,
   "metadata": {},
   "outputs": [
    {
     "data": {
      "text/html": [
       "<div>\n",
       "<style scoped>\n",
       "    .dataframe tbody tr th:only-of-type {\n",
       "        vertical-align: middle;\n",
       "    }\n",
       "\n",
       "    .dataframe tbody tr th {\n",
       "        vertical-align: top;\n",
       "    }\n",
       "\n",
       "    .dataframe thead th {\n",
       "        text-align: right;\n",
       "    }\n",
       "</style>\n",
       "<table border=\"1\" class=\"dataframe\">\n",
       "  <thead>\n",
       "    <tr style=\"text-align: right;\">\n",
       "      <th></th>\n",
       "      <th>0</th>\n",
       "    </tr>\n",
       "  </thead>\n",
       "  <tbody>\n",
       "    <tr>\n",
       "      <th>a</th>\n",
       "      <td>2</td>\n",
       "    </tr>\n",
       "    <tr>\n",
       "      <th>b</th>\n",
       "      <td>3</td>\n",
       "    </tr>\n",
       "  </tbody>\n",
       "</table>\n",
       "</div>"
      ],
      "text/plain": [
       "   0\n",
       "a  2\n",
       "b  3"
      ]
     },
     "execution_count": 218,
     "metadata": {},
     "output_type": "execute_result"
    }
   ],
   "source": [
    "pd.DataFrame.from_dict({'a': [2], 'b':[3]}).T"
   ]
  },
  {
   "cell_type": "code",
   "execution_count": 117,
   "metadata": {},
   "outputs": [
    {
     "data": {
      "text/plain": [
       "Ks_2sampResult(statistic=0.178, pvalue=2.435958470075192e-14)"
      ]
     },
     "execution_count": 117,
     "metadata": {},
     "output_type": "execute_result"
    }
   ],
   "source": [
    "statistics, p_value = ks_2samp(real.trans_amount, fake.trans_amount)"
   ]
  },
  {
   "cell_type": "code",
   "execution_count": 199,
   "metadata": {},
   "outputs": [],
   "source": [
    "from IPython.core.display import display, Markdown"
   ]
  },
  {
   "cell_type": "code",
   "execution_count": 206,
   "metadata": {},
   "outputs": [],
   "source": [
    "class EvaluationResult(object):\n",
    "    def __init__(self, name, content, prefix=None, appendix=None, notebook=False):\n",
    "        self.name = name\n",
    "        self.prefix = prefix\n",
    "        self.content = content\n",
    "        self.appendix = appendix\n",
    "        self.notebook = notebook\n",
    "\n",
    "    def show(self):\n",
    "        if self.notebook:\n",
    "            output = widgets.Output()\n",
    "            with output:\n",
    "                display(Markdown(f'## {self.name}'))\n",
    "                if self.prefix: display(Markdown(self.prefix))\n",
    "                display(self.content)\n",
    "                if self.appendix: display(Markdown(self.appendix))\n",
    "            display(output)"
   ]
  },
  {
   "cell_type": "code",
   "execution_count": 207,
   "metadata": {},
   "outputs": [],
   "source": [
    "import ipywidgets as widgets"
   ]
  },
  {
   "cell_type": "code",
   "execution_count": 212,
   "metadata": {},
   "outputs": [],
   "source": [
    "er = EvaluationResult('Jensen-Shannon distance', js_df, notebook=True, appendix=f' Mean: {js_df.js_distance.mean(): .3f}')"
   ]
  },
  {
   "cell_type": "code",
   "execution_count": 213,
   "metadata": {},
   "outputs": [
    {
     "data": {
      "application/vnd.jupyter.widget-view+json": {
       "model_id": "ccf01dc421134e3dba4310e3e602218e",
       "version_major": 2,
       "version_minor": 0
      },
      "text/plain": [
       "Output()"
      ]
     },
     "metadata": {},
     "output_type": "display_data"
    }
   ],
   "source": [
    "er.show()"
   ]
  },
  {
   "cell_type": "code",
   "execution_count": 215,
   "metadata": {},
   "outputs": [
    {
     "name": "stdout",
     "output_type": "stream",
     "text": [
      "                     js_distance\n",
      "col_name                        \n",
      "trans_amount            0.089130\n",
      "balance_after_trans     0.081193\n",
      "mean                    0.085162\n"
     ]
    }
   ],
   "source": [
    "print(str(js_df))"
   ]
  }
 ],
 "metadata": {
  "kernelspec": {
   "display_name": "Python 3",
   "language": "python",
   "name": "python3"
  },
  "language_info": {
   "codemirror_mode": {
    "name": "ipython",
    "version": 3
   },
   "file_extension": ".py",
   "mimetype": "text/x-python",
   "name": "python",
   "nbconvert_exporter": "python",
   "pygments_lexer": "ipython3",
   "version": "3.7.3"
  }
 },
 "nbformat": 4,
 "nbformat_minor": 4
}
